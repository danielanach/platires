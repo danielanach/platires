{
 "cells": [
  {
   "cell_type": "markdown",
   "metadata": {},
   "source": [
    "## Purpose: \n",
    "### Define genes that are differentially expressed between platinum-drug resistant and sensitive cells. These will be used as gene lists in the NMF of CCLE gene expression data.\n",
    "<hr style=\"border: none; border-bottom: 3px solid #88BBEE;\">\n",
    "\n",
    "Since thousands of genes have been implicated in platinum-resistance, two experiments may not yield the same set of differentially expressed genes. Here we create several different gene lists in order to try and capture the heterogeneity of platinum resistance.\n",
    "\n",
    "### **Creating a 2 different gene lists:**  \n",
    "**(1)** Bulk RNA seq [Olivier]: **1211 genes (pval unadjusted)**    \n",
    "**(2)** The union of [Marchion et al](https://www.ncbi.nlm.nih.gov/pubmed/21849418) analysis and Olivier's bulk RNA Seq: **3443 genes**   \n",
    "\n",
    "**Brief summary of the analysis done by the Marchion et al group:**     \n",
    "Probe sets with expression ranges >2-fold only used. For each cell line, Pearson correlation coefficients were calculated for expression data and cisplatin EC50. \n",
    "* **|R|** > 0.85 for Marchion data. Could do p value here too.  \n",
    "* **p (unadjusted)** < 0.01 for Olivier's data.      "
   ]
  },
  {
   "cell_type": "code",
   "execution_count": 1,
   "metadata": {},
   "outputs": [],
   "source": [
    "import pandas as pd\n",
    "import numpy as np\n",
    "import math\n",
    "from scipy import stats\n",
    "from statsmodels.sandbox.stats.multicomp import multipletests"
   ]
  },
  {
   "cell_type": "code",
   "execution_count": 2,
   "metadata": {},
   "outputs": [
    {
     "data": {
      "text/html": [
       "<div>\n",
       "<style scoped>\n",
       "    .dataframe tbody tr th:only-of-type {\n",
       "        vertical-align: middle;\n",
       "    }\n",
       "\n",
       "    .dataframe tbody tr th {\n",
       "        vertical-align: top;\n",
       "    }\n",
       "\n",
       "    .dataframe thead th {\n",
       "        text-align: right;\n",
       "    }\n",
       "</style>\n",
       "<table border=\"1\" class=\"dataframe\">\n",
       "  <thead>\n",
       "    <tr style=\"text-align: right;\">\n",
       "      <th></th>\n",
       "      <th>Cell_Line</th>\n",
       "      <th>Correlation_Coefficient</th>\n",
       "      <th>Gene_Symbol</th>\n",
       "    </tr>\n",
       "  </thead>\n",
       "  <tbody>\n",
       "    <tr>\n",
       "      <th>0</th>\n",
       "      <td>A2008</td>\n",
       "      <td>-0.971870</td>\n",
       "      <td>ABHD11</td>\n",
       "    </tr>\n",
       "    <tr>\n",
       "      <th>1</th>\n",
       "      <td>A2008</td>\n",
       "      <td>-0.969153</td>\n",
       "      <td>LOC729070</td>\n",
       "    </tr>\n",
       "    <tr>\n",
       "      <th>2</th>\n",
       "      <td>A2008</td>\n",
       "      <td>-0.947590</td>\n",
       "      <td>OGG1</td>\n",
       "    </tr>\n",
       "    <tr>\n",
       "      <th>3</th>\n",
       "      <td>A2008</td>\n",
       "      <td>-0.946277</td>\n",
       "      <td>NFATC2IP</td>\n",
       "    </tr>\n",
       "    <tr>\n",
       "      <th>4</th>\n",
       "      <td>A2008</td>\n",
       "      <td>-0.940457</td>\n",
       "      <td>SUSD4</td>\n",
       "    </tr>\n",
       "  </tbody>\n",
       "</table>\n",
       "</div>"
      ],
      "text/plain": [
       "  Cell_Line  Correlation_Coefficient Gene_Symbol\n",
       "0     A2008                -0.971870      ABHD11\n",
       "1     A2008                -0.969153   LOC729070\n",
       "2     A2008                -0.947590        OGG1\n",
       "3     A2008                -0.946277    NFATC2IP\n",
       "4     A2008                -0.940457       SUSD4"
      ]
     },
     "execution_count": 2,
     "metadata": {},
     "output_type": "execute_result"
    }
   ],
   "source": [
    "# Reading in marchion et al data\n",
    "march_dat = pd.read_csv('../data/Marchionetal2.csv', index_col=0)\n",
    "march_dat.reset_index(inplace=True)\n",
    "march_dat.sort_values('Gene_Symbol')\n",
    "march_dat.head()"
   ]
  },
  {
   "cell_type": "code",
   "execution_count": 3,
   "metadata": {},
   "outputs": [
    {
     "data": {
      "text/html": [
       "<div>\n",
       "<style scoped>\n",
       "    .dataframe tbody tr th:only-of-type {\n",
       "        vertical-align: middle;\n",
       "    }\n",
       "\n",
       "    .dataframe tbody tr th {\n",
       "        vertical-align: top;\n",
       "    }\n",
       "\n",
       "    .dataframe thead th {\n",
       "        text-align: right;\n",
       "    }\n",
       "</style>\n",
       "<table border=\"1\" class=\"dataframe\">\n",
       "  <thead>\n",
       "    <tr style=\"text-align: right;\">\n",
       "      <th></th>\n",
       "      <th>baseMean</th>\n",
       "      <th>log2FoldChange</th>\n",
       "      <th>lfcSE</th>\n",
       "      <th>stat</th>\n",
       "      <th>pvalue</th>\n",
       "      <th>padj</th>\n",
       "      <th>gene_id</th>\n",
       "      <th>symbol</th>\n",
       "    </tr>\n",
       "  </thead>\n",
       "  <tbody>\n",
       "    <tr>\n",
       "      <th>0</th>\n",
       "      <td>62.361911</td>\n",
       "      <td>4.594909</td>\n",
       "      <td>0.365186</td>\n",
       "      <td>12.582373</td>\n",
       "      <td>2.640000e-36</td>\n",
       "      <td>5.580000e-32</td>\n",
       "      <td>ENSG00000243232</td>\n",
       "      <td>PCDHAC2</td>\n",
       "    </tr>\n",
       "    <tr>\n",
       "      <th>1</th>\n",
       "      <td>1040.392032</td>\n",
       "      <td>2.977025</td>\n",
       "      <td>0.371799</td>\n",
       "      <td>8.007074</td>\n",
       "      <td>1.170000e-15</td>\n",
       "      <td>1.240000e-11</td>\n",
       "      <td>ENSG00000147100</td>\n",
       "      <td>SLC16A2</td>\n",
       "    </tr>\n",
       "    <tr>\n",
       "      <th>2</th>\n",
       "      <td>756.580703</td>\n",
       "      <td>1.989505</td>\n",
       "      <td>0.257404</td>\n",
       "      <td>7.729119</td>\n",
       "      <td>1.080000e-14</td>\n",
       "      <td>7.620000e-11</td>\n",
       "      <td>ENSG00000171444</td>\n",
       "      <td>MCC</td>\n",
       "    </tr>\n",
       "    <tr>\n",
       "      <th>3</th>\n",
       "      <td>21.451441</td>\n",
       "      <td>-2.763946</td>\n",
       "      <td>0.386104</td>\n",
       "      <td>-7.158546</td>\n",
       "      <td>8.150000e-13</td>\n",
       "      <td>4.310000e-09</td>\n",
       "      <td>ENSG00000251220</td>\n",
       "      <td>RFPL4AP3</td>\n",
       "    </tr>\n",
       "    <tr>\n",
       "      <th>4</th>\n",
       "      <td>64.231034</td>\n",
       "      <td>-2.585837</td>\n",
       "      <td>0.373825</td>\n",
       "      <td>-6.917246</td>\n",
       "      <td>4.610000e-12</td>\n",
       "      <td>1.710000e-08</td>\n",
       "      <td>ENSG00000273079</td>\n",
       "      <td>GRIN2B</td>\n",
       "    </tr>\n",
       "  </tbody>\n",
       "</table>\n",
       "</div>"
      ],
      "text/plain": [
       "      baseMean  log2FoldChange     lfcSE       stat        pvalue  \\\n",
       "0    62.361911        4.594909  0.365186  12.582373  2.640000e-36   \n",
       "1  1040.392032        2.977025  0.371799   8.007074  1.170000e-15   \n",
       "2   756.580703        1.989505  0.257404   7.729119  1.080000e-14   \n",
       "3    21.451441       -2.763946  0.386104  -7.158546  8.150000e-13   \n",
       "4    64.231034       -2.585837  0.373825  -6.917246  4.610000e-12   \n",
       "\n",
       "           padj          gene_id    symbol  \n",
       "0  5.580000e-32  ENSG00000243232   PCDHAC2  \n",
       "1  1.240000e-11  ENSG00000147100   SLC16A2  \n",
       "2  7.620000e-11  ENSG00000171444       MCC  \n",
       "3  4.310000e-09  ENSG00000251220  RFPL4AP3  \n",
       "4  1.710000e-08  ENSG00000273079    GRIN2B  "
      ]
     },
     "execution_count": 3,
     "metadata": {},
     "output_type": "execute_result"
    }
   ],
   "source": [
    "# Reading in Olivier's bulk RNA data\n",
    "#NOTE Excel has done a nasty thing here and renamed genesymbols that resemble dates in their date format. \n",
    "#This is how I received the Marchion data and I am going to use ours in this way as well so that they\n",
    "#are comparable and I can convert both at the end. \n",
    "oliv_dat = pd.read_csv('../data/res.df.csv', index_col=0)\n",
    "oliv_dat.reset_index(inplace=True)\n",
    "oliv_dat.sort_values('symbol')\n",
    "oliv_dat.head()"
   ]
  },
  {
   "cell_type": "code",
   "execution_count": 4,
   "metadata": {},
   "outputs": [
    {
     "data": {
      "text/plain": [
       "(3319, 3)"
      ]
     },
     "execution_count": 4,
     "metadata": {},
     "output_type": "execute_result"
    }
   ],
   "source": [
    "#Cleaning both datasets for multi-gene and non-existent entries:\n",
    "march_dat_clean = march_dat[(march_dat.Gene_Symbol.str.contains('///'))== False]\n",
    "march_dat_clean = march_dat_clean[(march_dat_clean.Gene_Symbol.str.contains('NaN'))== False]\n",
    "oliv_dat_clean = oliv_dat[((oliv_dat.symbol.str.contains('NaN'))== False)]\n",
    "oliv_dat_clean = oliv_dat_clean[((oliv_dat_clean.symbol.str.contains('///'))== False)]\n",
    "oliv_dat_clean = oliv_dat_clean[np.isfinite(oliv_dat_clean['padj'])]\n",
    "march_dat_clean.shape"
   ]
  },
  {
   "cell_type": "code",
   "execution_count": 5,
   "metadata": {},
   "outputs": [
    {
     "data": {
      "text/plain": [
       "(20295, 8)"
      ]
     },
     "execution_count": 5,
     "metadata": {},
     "output_type": "execute_result"
    }
   ],
   "source": [
    "oliv_dat_clean.shape"
   ]
  },
  {
   "cell_type": "code",
   "execution_count": 6,
   "metadata": {},
   "outputs": [],
   "source": [
    "#Setting maximum p values and minimum R correlation coefficients.\n",
    "max_p_value = 0.01\n",
    "min_R_value = 0.85"
   ]
  },
  {
   "cell_type": "code",
   "execution_count": 7,
   "metadata": {},
   "outputs": [],
   "source": [
    "#Filtering both datasets for statistical limits set in cell above\n",
    "#***CURRENTLY THESE LINES DON'T DO ANYTHING, MARCHION DATA IS ALREADY FILTERED\n",
    "pos_cor = march_dat_clean['Correlation_Coefficient'] < min_R_value\n",
    "neg_cor = march_dat_clean['Correlation_Coefficient'] > -min_R_value\n",
    "march_dat_filter = march_dat_clean[pos_cor | neg_cor]\n",
    "march_dat_filter = march_dat_filter.drop_duplicates(subset='Gene_Symbol', keep=\"last\")\n",
    "\n",
    "sig_p = oliv_dat_clean['pvalue'] < max_p_value\n",
    "sig_padj = oliv_dat_clean['padj'] < max_p_value\n",
    "\n",
    "oliv_dat_filter_nadj = oliv_dat_clean[sig_p] \n",
    "oliv_dat_filter = oliv_dat_clean[sig_padj]"
   ]
  },
  {
   "cell_type": "code",
   "execution_count": 8,
   "metadata": {},
   "outputs": [
    {
     "data": {
      "text/plain": [
       "3443"
      ]
     },
     "execution_count": 8,
     "metadata": {},
     "output_type": "execute_result"
    }
   ],
   "source": [
    "o_dat = oliv_dat_filter_nadj['symbol'].unique()\n",
    "m_dat = march_dat_filter['Gene_Symbol'].unique()\n",
    "union = oliv_dat_filter_nadj['symbol'].append(march_dat_filter['Gene_Symbol']).unique()\n",
    "len(union)"
   ]
  },
  {
   "cell_type": "code",
   "execution_count": 9,
   "metadata": {},
   "outputs": [
    {
     "name": "stdout",
     "output_type": "stream",
     "text": [
      "Total genes in Marchion et al. analysis which have a |R| > 0.85 : 2375\n",
      "\n",
      "\n",
      "Total genes in Olivier's RNA Seq analysis: 20295\n",
      "Total genes in Olivier's RNA Seq analysis which have p_value < 0.01 : 1211\n",
      "Total genes in Olivier's RNA Seq analysis which have p_value < 0.01 / (# of genes) : 191\n"
     ]
    }
   ],
   "source": [
    "#print('Total genes in Marchion et al. analysis with expression ranges >=2-fold (maximum/minimum): {}').format(march_dat_filter.shape[0])\n",
    "\n",
    "print('Total genes in Marchion et al. analysis which have a |R| > 0.85 : {}'.format(m_dat.shape[0]))\n",
    "print('\\n')\n",
    "print('Total genes in Olivier\\'s RNA Seq analysis: {}'.format(oliv_dat_clean.shape[0]))\n",
    "print('Total genes in Olivier\\'s RNA Seq analysis which have p_value < 0.01 : {}'.format(o_dat.shape[0]))   \n",
    "print('Total genes in Olivier\\'s RNA Seq analysis which have p_value < 0.01 / (# of genes) : {}'.format(oliv_dat_filter.shape[0]))   "
   ]
  },
  {
   "cell_type": "markdown",
   "metadata": {
    "collapsed": true
   },
   "source": [
    "# (1) CREATING JUST A BULK RNA SEQ GENE LIST [OLIVIER'S]\n",
    "### Carboplatin"
   ]
  },
  {
   "cell_type": "code",
   "execution_count": 13,
   "metadata": {
    "collapsed": true,
    "scrolled": true
   },
   "outputs": [],
   "source": [
    "# Just Olivier's bulk RNA Seq\n",
    "pd.Series(oliv_dat_filter_nadj['symbol']).to_csv('../data/bulkRNASeq_genelist.csv')"
   ]
  },
  {
   "cell_type": "markdown",
   "metadata": {},
   "source": [
    "# (2) CREATING A BULK RNA SEQ + Marchion et al GENE LIST \n",
    "### Cisplatin and Carboplatin"
   ]
  },
  {
   "cell_type": "code",
   "execution_count": 11,
   "metadata": {
    "collapsed": true
   },
   "outputs": [],
   "source": [
    "pd.Series(union).to_csv('../data/bulkRNASeq_and_Marchion_genelist.csv')"
   ]
  },
  {
   "cell_type": "code",
   "execution_count": null,
   "metadata": {
    "collapsed": true
   },
   "outputs": [],
   "source": []
  }
 ],
 "metadata": {
  "kernelspec": {
   "display_name": "Python 3",
   "language": "python",
   "name": "python3"
  },
  "language_info": {
   "codemirror_mode": {
    "name": "ipython",
    "version": 3
   },
   "file_extension": ".py",
   "mimetype": "text/x-python",
   "name": "python",
   "nbconvert_exporter": "python",
   "pygments_lexer": "ipython3",
   "version": "3.6.3"
  }
 },
 "nbformat": 4,
 "nbformat_minor": 2
}
